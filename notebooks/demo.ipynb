{
 "cells": [
  {
   "cell_type": "markdown",
   "metadata": {},
   "source": [
    "# Quantum Magnetic Navigation API Demo\n",
    "\n",
    "This notebook demonstrates how to use the Quantum Magnetic Navigation API to estimate positions based on magnetic field measurements.\n",
    "\n",
    "## Setup\n",
    "\n",
    "First, we need to make sure the API server is running. You can start it with:\n",
    "\n",
    "```bash\n",
    "uvicorn qmag_nav.service.api:app --reload\n",
    "```\n",
    "\n",
    "Then we can interact with it using the requests library."
   ]
  },
  {
   "cell_type": "code",
   "execution_count": null,
   "metadata": {},
   "source": [
    "import requests\n",
    "import json\n",
    "import matplotlib.pyplot as plt\n",
    "import numpy as np\n",
    "import pandas as pd\n",
    "from IPython.display import display, HTML\n",
    "\n",
    "# Set the base URL for the API\n",
    "BASE_URL = \"http://localhost:8000\""
   ]
  },
  {
   "cell_type": "markdown",
   "metadata": {},
   "source": [
    "## Check API Health\n",
    "\n",
    "Let's first check if the API is running by calling the health endpoint."
   ]
  },
  {
   "cell_type": "code",
   "execution_count": null,
   "metadata": {},
   "source": [
    "response = requests.get(f\"{BASE_URL}/healthz\")\n",
    "print(f\"Status code: {response.status_code}\")\n",
    "print(f\"Response: {response.json()}\")"
   ]
  },
  {
   "cell_type": "markdown",
   "metadata": {},
   "source": [
    "## Generate a Simulated Trajectory\n",
    "\n",
    "We'll use the CLI to generate a simulated trajectory. We can do this by calling the CLI directly from the notebook."
   ]
  },
  {
   "cell_type": "code",
   "execution_count": null,
   "metadata": {},
   "source": [
    "import subprocess\n",
    "import sys\n",
    "\n",
    "# Generate a trajectory with 20 points\n",
    "result = subprocess.run(\n",
    "    [sys.executable, \"-m\", \"qmag_nav.cli\", \"simulate\", \"--steps\", \"20\"],\n",
    "    capture_output=True,\n",
    "    text=True,\n",
    "    check=True,\n",
    ")\n",
    "\n",
    "# Parse the trajectory\n",
    "trajectory = json.loads(result.stdout)\n",
    "\n",
    "# Convert to DataFrame for easier manipulation\n",
    "trajectory_df = pd.DataFrame(trajectory)\n",
    "trajectory_df.head()"
   ]
  },
  {
   "cell_type": "markdown",
   "metadata": {},
   "source": [
    "## Visualize the Simulated Trajectory\n",
    "\n",
    "Let's plot the simulated trajectory to see what it looks like."
   ]
  },
  {
   "cell_type": "code",
   "execution_count": null,
   "metadata": {},
   "source": [
    "plt.figure(figsize=(10, 6))\n",
    "plt.plot(trajectory_df['lon'], trajectory_df['lat'], 'o-', label='Simulated Trajectory')\n",
    "plt.xlabel('Longitude')\n",
    "plt.ylabel('Latitude')\n",
    "plt.title('Simulated Trajectory')\n",
    "plt.grid(True)\n",
    "plt.legend()\n",
    "plt.show()"
   ]
  },
  {
   "cell_type": "markdown",
   "metadata": {},
   "source": [
    "## Send Measurements to the API\n",
    "\n",
    "Now, let's send each point in the trajectory to the API and collect the estimated positions."
   ]
  },
  {
   "cell_type": "code",
   "execution_count": null,
   "metadata": {},
   "source": [
    "# List to store API responses\n",
    "estimates = []\n",
    "\n",
    "# Send each point to the API\n",
    "for _, point in trajectory_df.iterrows():\n",
    "    payload = {\n",
    "        \"lat\": point['lat'],\n",
    "        \"lon\": point['lon']\n",
    "    }\n",
    "    \n",
    "    response = requests.post(f\"{BASE_URL}/estimate\", json=payload)\n",
    "    \n",
    "    if response.status_code == 200:\n",
    "        estimates.append(response.json())\n",
    "    else:\n",
    "        print(f\"Error: {response.status_code} - {response.text}\")\n",
    "\n",
    "# Convert to DataFrame\n",
    "estimates_df = pd.DataFrame(estimates)\n",
    "estimates_df.head()"
   ]
  },
  {
   "cell_type": "markdown",
   "metadata": {},
   "source": [
    "## Compare Measurements and Estimates\n",
    "\n",
    "Let's compare the original measurements with the estimated positions."
   ]
  },
  {
   "cell_type": "code",
   "execution_count": null,
   "metadata": {},
   "source": [
    "plt.figure(figsize=(12, 8))\n",
    "\n",
    "# Plot measurements\n",
    "plt.plot(trajectory_df['lon'], trajectory_df['lat'], 'o-', label='Measurements', alpha=0.7)\n",
    "\n",
    "# Plot estimates\n",
    "plt.plot(estimates_df['lon'], estimates_df['lat'], 's-', label='Estimates', alpha=0.7)\n",
    "\n",
    "# Connect measurements to estimates with lines\n",
    "for i in range(len(trajectory_df)):\n",
    "    plt.plot([trajectory_df['lon'].iloc[i], estimates_df['lon'].iloc[i]],\n",
    "             [trajectory_df['lat'].iloc[i], estimates_df['lat'].iloc[i]],\n",
    "             'k--', alpha=0.3)\n",
    "\n",
    "plt.xlabel('Longitude')\n",
    "plt.ylabel('Latitude')\n",
    "plt.title('Measurements vs Estimates')\n",
    "plt.grid(True)\n",
    "plt.legend()\n",
    "plt.show()"
   ]
  },
  {
   "cell_type": "markdown",
   "metadata": {},
   "source": [
    "## Analyze Estimation Quality\n",
    "\n",
    "Let's analyze the quality of the estimates by calculating the error between the measurements and estimates."
   ]
  },
  {
   "cell_type": "code",
   "execution_count": null,
   "metadata": {},
   "source": [
    "# Calculate errors\n",
    "errors = []\n",
    "for i in range(len(trajectory_df)):\n",
    "    # Simple Euclidean distance (not geodesic)\n",
    "    error = np.sqrt(\n",
    "        (trajectory_df['lat'].iloc[i] - estimates_df['lat'].iloc[i])**2 +\n",
    "        (trajectory_df['lon'].iloc[i] - estimates_df['lon'].iloc[i])**2\n",
    "    )\n",
    "    errors.append(error)\n",
    "\n",
    "# Plot errors over time\n",
    "plt.figure(figsize=(10, 6))\n",
    "plt.plot(errors, 'o-')\n",
    "plt.xlabel('Measurement Index')\n",
    "plt.ylabel('Error (degrees)')\n",
    "plt.title('Estimation Error Over Time')\n",
    "plt.grid(True)\n",
    "plt.show()\n",
    "\n",
    "# Print summary statistics\n",
    "print(f\"Mean error: {np.mean(errors):.6f} degrees\")\n",
    "print(f\"Max error: {np.max(errors):.6f} degrees\")\n",
    "print(f\"Min error: {np.min(errors):.6f} degrees\")\n",
    "print(f\"Standard deviation: {np.std(errors):.6f} degrees\")"
   ]
  },
  {
   "cell_type": "markdown",
   "metadata": {},
   "source": [
    "## Conclusion\n",
    "\n",
    "In this notebook, we've demonstrated how to:\n",
    "\n",
    "1. Generate a simulated trajectory using the CLI\n",
    "2. Send measurements to the Quantum Magnetic Navigation API\n",
    "3. Visualize and analyze the estimated positions\n",
    "\n",
    "The API provides a simple interface for position estimation based on magnetic field measurements. In a real-world scenario, you would use actual magnetometer readings instead of simulated positions."
   ]
  }
 ],
 "metadata": {
  "kernelspec": {
   "display_name": "Python 3",
   "language": "python",
   "name": "python3"
  },
  "language_info": {
   "codemirror_mode": {
    "name": "ipython",
    "version": 3
   },
   "file_extension": ".py",
   "mimetype": "text/x-python",
   "name": "python",
   "nbconvert_exporter": "python",
   "pygments_lexer": "ipython3",
   "version": "3.9.0"
  }
 },
 "nbformat": 4,
 "nbformat_minor": 4
}